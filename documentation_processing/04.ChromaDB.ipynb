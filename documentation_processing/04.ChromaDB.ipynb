{
 "cells": [
  {
   "cell_type": "code",
   "execution_count": 3,
   "id": "f558e09a",
   "metadata": {},
   "outputs": [
    {
     "name": "stdout",
     "output_type": "stream",
     "text": [
      "✅ Vector DB created and saved to ../chroma_store\n"
     ]
    }
   ],
   "source": [
    "import json\n",
    "import chromadb\n",
    "from chromadb.config import Settings\n",
    "\n",
    "# Load your embedded documents\n",
    "with open(\"document_embeddings.json\", \"r\", encoding=\"utf-8\") as f:\n",
    "    docs = json.load(f)\n",
    "\n",
    "# ✅ Use PersistentClient instead of chromadb.Client\n",
    "chroma_client = chromadb.PersistentClient(path=\"../chroma_store\")\n",
    "\n",
    "# Create or load collection\n",
    "collection = chroma_client.get_or_create_collection(name=\"bitmovin_docs\")\n",
    "\n",
    "# Prepare data\n",
    "ids = [doc[\"doc_id\"] for doc in docs]\n",
    "metadatas = [{\"title\": doc[\"title\"], \"url\": doc[\"doc_id\"]} for doc in docs]\n",
    "documents = [doc[\"text\"] for doc in docs]\n",
    "embeddings = [doc[\"embedding\"] for doc in docs]\n",
    "\n",
    "# Add to Chroma collection\n",
    "collection.add(\n",
    "    ids=ids,\n",
    "    embeddings=embeddings,\n",
    "    documents=documents,\n",
    "    metadatas=metadatas\n",
    ")\n",
    "\n",
    "print(\"✅ Vector DB created and saved to ../chroma_store\")\n"
   ]
  }
 ],
 "metadata": {
  "kernelspec": {
   "display_name": "venv_documentation",
   "language": "python",
   "name": "python3"
  },
  "language_info": {
   "codemirror_mode": {
    "name": "ipython",
    "version": 3
   },
   "file_extension": ".py",
   "mimetype": "text/x-python",
   "name": "python",
   "nbconvert_exporter": "python",
   "pygments_lexer": "ipython3",
   "version": "3.10.12"
  }
 },
 "nbformat": 4,
 "nbformat_minor": 5
}
