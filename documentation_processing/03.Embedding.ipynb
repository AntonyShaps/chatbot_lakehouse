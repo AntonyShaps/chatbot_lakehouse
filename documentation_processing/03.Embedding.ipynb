{
 "cells": [
  {
   "cell_type": "code",
   "execution_count": null,
   "id": "60eff48f",
   "metadata": {},
   "outputs": [
    {
     "name": "stderr",
     "output_type": "stream",
     "text": [
      "Embedding documents: 100%|██████████| 165/165 [01:13<00:00,  2.25it/s]"
     ]
    },
    {
     "name": "stdout",
     "output_type": "stream",
     "text": [
      "✅ Embedding complete and saved to document_embeddings.json\n"
     ]
    },
    {
     "name": "stderr",
     "output_type": "stream",
     "text": [
      "\n"
     ]
    }
   ],
   "source": [
    "import openai\n",
    "from openai import OpenAI\n",
    "import pandas as pd\n",
    "from tqdm import tqdm\n",
    "import json\n",
    "import tiktoken\n",
    "import os\n",
    "from dotenv import load_dotenv\n",
    "load_dotenv()\n",
    "\n",
    "api_key = os.getenv(\"OPENAI_API_KEY\")\n",
    "client = OpenAI(api_key=api_key)\n",
    "model=\"text-embedding-3-small\"\n",
    "tokenizer = tiktoken.encoding_for_model(model)\n",
    "MAX_TOKENS = 8191\n",
    "def truncate_to_max_tokens(text, max_tokens=MAX_TOKENS):\n",
    "    tokens = tokenizer.encode(text)\n",
    "    if len(tokens) > max_tokens:\n",
    "        tokens = tokens[:max_tokens]\n",
    "    return tokenizer.decode(tokens)\n",
    "\n",
    "# Load your parsed documents\n",
    "with open(\"parsed_docs_cleaned.json\", \"r\", encoding=\"utf-8\") as f:\n",
    "    docs = json.load(f)\n",
    "\n",
    "embeddings = []\n",
    "\n",
    "f# 🔁 Loop through each doc\n",
    "for doc in tqdm(docs, desc=\"Embedding documents\"):\n",
    "    title = doc.get(\"title\", \"\")\n",
    "    raw_text = doc.get(\"text\", \"\")\n",
    "    full_text = f\"{title}\\n\\n{raw_text}\".replace(\"\\\\n\", \"\\n\").strip()\n",
    "    full_text = truncate_to_max_tokens(full_text)\n",
    "\n",
    "    try:\n",
    "        response = client.embeddings.create(\n",
    "            input=full_text,\n",
    "            model=model,\n",
    "            dimensions = 128\n",
    "        )\n",
    "        embedding_vector = response.data[0].embedding\n",
    "\n",
    "        embeddings.append({\n",
    "            \"doc_id\": doc.get(\"url\"),\n",
    "            \"title\": title,\n",
    "            \"text\": full_text,\n",
    "            \"embedding\": embedding_vector\n",
    "        })\n",
    "\n",
    "    except Exception as e:\n",
    "        print(f\"⚠️ Error embedding doc: {doc.get('url')}\\n{e}\")\n",
    "\n",
    "# 💾 Save the result\n",
    "with open(\"document_embeddings.json\", \"w\", encoding=\"utf-8\") as f:\n",
    "    json.dump(embeddings, f, indent=2, ensure_ascii=False)\n",
    "\n",
    "print(\"✅ Embedding complete and saved to document_embeddings.json\")\n"
   ]
  }
 ],
 "metadata": {
  "kernelspec": {
   "display_name": "venv_documentation",
   "language": "python",
   "name": "python3"
  },
  "language_info": {
   "codemirror_mode": {
    "name": "ipython",
    "version": 3
   },
   "file_extension": ".py",
   "mimetype": "text/x-python",
   "name": "python",
   "nbconvert_exporter": "python",
   "pygments_lexer": "ipython3",
   "version": "3.10.12"
  }
 },
 "nbformat": 4,
 "nbformat_minor": 5
}
